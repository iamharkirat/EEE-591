{
  "cells": [
    {
      "cell_type": "markdown",
      "metadata": {
        "id": "view-in-github",
        "colab_type": "text"
      },
      "source": [
        "<a href=\"https://colab.research.google.com/github/iamharkirat/EEE-591-Python-for-Rapid-Engineering-Solutions-/blob/main/project_1.ipynb\" target=\"_parent\"><img src=\"https://colab.research.google.com/assets/colab-badge.svg\" alt=\"Open In Colab\"/></a>"
      ]
    },
    {
      "cell_type": "code",
      "execution_count": 1,
      "id": "65b42b36-c2e0-4c3b-8713-77a672b96326",
      "metadata": {
        "id": "65b42b36-c2e0-4c3b-8713-77a672b96326",
        "outputId": "cba8b374-6db7-4066-f43e-1f92769e1de8",
        "colab": {
          "base_uri": "https://localhost:8080/",
          "height": 357
        }
      },
      "outputs": [
        {
          "output_type": "display_data",
          "data": {
            "text/plain": [
              "<Figure size 360x72 with 1 Axes>"
            ],
            "image/png": "[encoded data removed]"
          },
          "metadata": {}
        },
        {
          "output_type": "display_data",
          "data": {
            "text/plain": [
              "<Figure size 360x72 with 1 Axes>"
            ],
            "image/png": "[encoded data removed]"
          },
          "metadata": {}
        },
        {
          "output_type": "display_data",
          "data": {
            "text/plain": [
              "<Figure size 360x72 with 1 Axes>"
            ],
            "image/png": "[encoded data removed]"
          },
          "metadata": {}
        },
        {
          "output_type": "display_data",
          "data": {
            "text/plain": [
              "<Figure size 360x72 with 1 Axes>"
            ],
            "image/png": "[encoded data removed]"
          },
          "metadata": {}
        },
        {
          "output_type": "display_data",
          "data": {
            "text/plain": [
              "<Figure size 360x72 with 1 Axes>"
            ],
            "image/png": "[encoded data removed]"
          },
          "metadata": {}
        }
      ],
      "source": [
        "import pandas as pd\n",
        "import numpy as np\n",
        "import matplotlib.pyplot as plt\n",
        "import seaborn as sns\n",
        "\n",
        "from pylab import rcParams\n",
        "rcParams['figure.figsize']=20,5\n",
        "sns.set_style(\"whitegrid\")\n",
        "\n",
        "# Ignore harmless warnings\n",
        "import warnings\n",
        "warnings.filterwarnings(\"ignore\")\n",
        "\n",
        "# --- Create List of Color Palletes ---\n",
        "red_grad = ['#FF0000', '#BF0000', '#800000', '#400000', '#000000']\n",
        "pink_grad = ['#8A0030', '#BA1141', '#FF5C8A', '#FF99B9', '#FFDEEB']\n",
        "purple_grad = ['#4C0028', '#7F0043', '#8E004C', '#A80059', '#C10067']\n",
        "color_mix = ['#F38BB2', '#FFB9CF', '#FFD7D7', '#F17881', '#E7525B']\n",
        "black_grad = ['#100C07', '#3E3B39', '#6D6A6A', '#9B9A9C', '#CAC9CD']\n",
        "\n",
        "# --- Plot Color Palletes --\n",
        "sns.palplot(red_grad)\n",
        "sns.palplot(pink_grad)\n",
        "sns.palplot(purple_grad)\n",
        "sns.palplot(color_mix)\n",
        "sns.palplot(black_grad)"
      ]
    },
    {
      "cell_type": "code",
      "execution_count": 2,
      "id": "c5ddcc14-332f-45ad-b151-fd348926078b",
      "metadata": {
        "id": "c5ddcc14-332f-45ad-b151-fd348926078b",
        "outputId": "3fb000c2-4e56-40eb-8dba-1806dd6fb0fd",
        "colab": {
          "base_uri": "https://localhost:8080/",
          "height": 204
        }
      },
      "outputs": [
        {
          "output_type": "execute_result",
          "data": {
            "text/plain": [
              "<pandas.io.formats.style.Styler at 0x7fd47847eca0>"
            ],
            "text/html": [
              "<style type=\"text/css\">\n",
              "#T_b9e31_row0_col0, #T_b9e31_row0_col5, #T_b9e31_row0_col8, #T_b9e31_row0_col9, #T_b9e31_row0_col10, #T_b9e31_row0_col11, #T_b9e31_row0_col12, #T_b9e31_row0_col13, #T_b9e31_row1_col1, #T_b9e31_row1_col3, #T_b9e31_row1_col5, #T_b9e31_row1_col6, #T_b9e31_row1_col8, #T_b9e31_row1_col10, #T_b9e31_row1_col11, #T_b9e31_row1_col12, #T_b9e31_row1_col13, #T_b9e31_row2_col2, #T_b9e31_row2_col3, #T_b9e31_row2_col4, #T_b9e31_row2_col5, #T_b9e31_row2_col8, #T_b9e31_row2_col9, #T_b9e31_row2_col10, #T_b9e31_row2_col11, #T_b9e31_row2_col12, #T_b9e31_row2_col13, #T_b9e31_row3_col5, #T_b9e31_row3_col6, #T_b9e31_row3_col7, #T_b9e31_row3_col11, #T_b9e31_row4_col5, #T_b9e31_row4_col9, #T_b9e31_row4_col10, #T_b9e31_row4_col11 {\n",
              "  background-color: #fcfbfd;\n",
              "  color: #000000;\n",
              "}\n",
              "#T_b9e31_row0_col1, #T_b9e31_row0_col3, #T_b9e31_row0_col6, #T_b9e31_row0_col7, #T_b9e31_row2_col1, #T_b9e31_row2_col6, #T_b9e31_row3_col0, #T_b9e31_row3_col1, #T_b9e31_row3_col2, #T_b9e31_row3_col8, #T_b9e31_row3_col9, #T_b9e31_row3_col10, #T_b9e31_row3_col12, #T_b9e31_row3_col13, #T_b9e31_row4_col0, #T_b9e31_row4_col1, #T_b9e31_row4_col2, #T_b9e31_row4_col4, #T_b9e31_row4_col6, #T_b9e31_row4_col8, #T_b9e31_row4_col12, #T_b9e31_row4_col13 {\n",
              "  background-color: #3f007d;\n",
              "  color: #f1f1f1;\n",
              "}\n",
              "#T_b9e31_row0_col2, #T_b9e31_row1_col2 {\n",
              "  background-color: #c6c7e1;\n",
              "  color: #000000;\n",
              "}\n",
              "#T_b9e31_row0_col4 {\n",
              "  background-color: #dfdfed;\n",
              "  color: #000000;\n",
              "}\n",
              "#T_b9e31_row1_col0, #T_b9e31_row2_col0 {\n",
              "  background-color: #5b3495;\n",
              "  color: #f1f1f1;\n",
              "}\n",
              "#T_b9e31_row1_col4 {\n",
              "  background-color: #d3d3e8;\n",
              "  color: #000000;\n",
              "}\n",
              "#T_b9e31_row1_col7 {\n",
              "  background-color: #562b91;\n",
              "  color: #f1f1f1;\n",
              "}\n",
              "#T_b9e31_row1_col9 {\n",
              "  background-color: #aeacd2;\n",
              "  color: #000000;\n",
              "}\n",
              "#T_b9e31_row2_col7 {\n",
              "  background-color: #8380bb;\n",
              "  color: #f1f1f1;\n",
              "}\n",
              "#T_b9e31_row3_col3 {\n",
              "  background-color: #e8e7f2;\n",
              "  color: #000000;\n",
              "}\n",
              "#T_b9e31_row3_col4 {\n",
              "  background-color: #eae8f2;\n",
              "  color: #000000;\n",
              "}\n",
              "#T_b9e31_row4_col3 {\n",
              "  background-color: #796eb2;\n",
              "  color: #f1f1f1;\n",
              "}\n",
              "#T_b9e31_row4_col7 {\n",
              "  background-color: #bfc0de;\n",
              "  color: #000000;\n",
              "}\n",
              "</style>\n",
              "<table id=\"T_b9e31_\" class=\"dataframe\">\n",
              "  <thead>\n",
              "    <tr>\n",
              "      <th class=\"blank level0\" >&nbsp;</th>\n",
              "      <th class=\"col_heading level0 col0\" >age</th>\n",
              "      <th class=\"col_heading level0 col1\" >sex</th>\n",
              "      <th class=\"col_heading level0 col2\" >cpt</th>\n",
              "      <th class=\"col_heading level0 col3\" >rbp</th>\n",
              "      <th class=\"col_heading level0 col4\" >sc</th>\n",
              "      <th class=\"col_heading level0 col5\" >fbs</th>\n",
              "      <th class=\"col_heading level0 col6\" >rer</th>\n",
              "      <th class=\"col_heading level0 col7\" >mhr</th>\n",
              "      <th class=\"col_heading level0 col8\" >eia</th>\n",
              "      <th class=\"col_heading level0 col9\" >opst</th>\n",
              "      <th class=\"col_heading level0 col10\" >dests</th>\n",
              "      <th class=\"col_heading level0 col11\" >nmvcf</th>\n",
              "      <th class=\"col_heading level0 col12\" >thal</th>\n",
              "      <th class=\"col_heading level0 col13\" >a1p2</th>\n",
              "    </tr>\n",
              "  </thead>\n",
              "  <tbody>\n",
              "    <tr>\n",
              "      <th id=\"T_b9e31_level0_row0\" class=\"row_heading level0 row0\" >0</th>\n",
              "      <td id=\"T_b9e31_row0_col0\" class=\"data row0 col0\" >29</td>\n",
              "      <td id=\"T_b9e31_row0_col1\" class=\"data row0 col1\" >1</td>\n",
              "      <td id=\"T_b9e31_row0_col2\" class=\"data row0 col2\" >2</td>\n",
              "      <td id=\"T_b9e31_row0_col3\" class=\"data row0 col3\" >130</td>\n",
              "      <td id=\"T_b9e31_row0_col4\" class=\"data row0 col4\" >204</td>\n",
              "      <td id=\"T_b9e31_row0_col5\" class=\"data row0 col5\" >0</td>\n",
              "      <td id=\"T_b9e31_row0_col6\" class=\"data row0 col6\" >2</td>\n",
              "      <td id=\"T_b9e31_row0_col7\" class=\"data row0 col7\" >202</td>\n",
              "      <td id=\"T_b9e31_row0_col8\" class=\"data row0 col8\" >0</td>\n",
              "      <td id=\"T_b9e31_row0_col9\" class=\"data row0 col9\" >0.000000</td>\n",
              "      <td id=\"T_b9e31_row0_col10\" class=\"data row0 col10\" >1</td>\n",
              "      <td id=\"T_b9e31_row0_col11\" class=\"data row0 col11\" >0</td>\n",
              "      <td id=\"T_b9e31_row0_col12\" class=\"data row0 col12\" >3</td>\n",
              "      <td id=\"T_b9e31_row0_col13\" class=\"data row0 col13\" >1</td>\n",
              "    </tr>\n",
              "    <tr>\n",
              "      <th id=\"T_b9e31_level0_row1\" class=\"row_heading level0 row1\" >1</th>\n",
              "      <td id=\"T_b9e31_row1_col0\" class=\"data row1 col0\" >34</td>\n",
              "      <td id=\"T_b9e31_row1_col1\" class=\"data row1 col1\" >0</td>\n",
              "      <td id=\"T_b9e31_row1_col2\" class=\"data row1 col2\" >2</td>\n",
              "      <td id=\"T_b9e31_row1_col3\" class=\"data row1 col3\" >118</td>\n",
              "      <td id=\"T_b9e31_row1_col4\" class=\"data row1 col4\" >210</td>\n",
              "      <td id=\"T_b9e31_row1_col5\" class=\"data row1 col5\" >0</td>\n",
              "      <td id=\"T_b9e31_row1_col6\" class=\"data row1 col6\" >0</td>\n",
              "      <td id=\"T_b9e31_row1_col7\" class=\"data row1 col7\" >192</td>\n",
              "      <td id=\"T_b9e31_row1_col8\" class=\"data row1 col8\" >0</td>\n",
              "      <td id=\"T_b9e31_row1_col9\" class=\"data row1 col9\" >0.700000</td>\n",
              "      <td id=\"T_b9e31_row1_col10\" class=\"data row1 col10\" >1</td>\n",
              "      <td id=\"T_b9e31_row1_col11\" class=\"data row1 col11\" >0</td>\n",
              "      <td id=\"T_b9e31_row1_col12\" class=\"data row1 col12\" >3</td>\n",
              "      <td id=\"T_b9e31_row1_col13\" class=\"data row1 col13\" >1</td>\n",
              "    </tr>\n",
              "    <tr>\n",
              "      <th id=\"T_b9e31_level0_row2\" class=\"row_heading level0 row2\" >2</th>\n",
              "      <td id=\"T_b9e31_row2_col0\" class=\"data row2 col0\" >34</td>\n",
              "      <td id=\"T_b9e31_row2_col1\" class=\"data row2 col1\" >1</td>\n",
              "      <td id=\"T_b9e31_row2_col2\" class=\"data row2 col2\" >1</td>\n",
              "      <td id=\"T_b9e31_row2_col3\" class=\"data row2 col3\" >118</td>\n",
              "      <td id=\"T_b9e31_row2_col4\" class=\"data row2 col4\" >182</td>\n",
              "      <td id=\"T_b9e31_row2_col5\" class=\"data row2 col5\" >0</td>\n",
              "      <td id=\"T_b9e31_row2_col6\" class=\"data row2 col6\" >2</td>\n",
              "      <td id=\"T_b9e31_row2_col7\" class=\"data row2 col7\" >174</td>\n",
              "      <td id=\"T_b9e31_row2_col8\" class=\"data row2 col8\" >0</td>\n",
              "      <td id=\"T_b9e31_row2_col9\" class=\"data row2 col9\" >0.000000</td>\n",
              "      <td id=\"T_b9e31_row2_col10\" class=\"data row2 col10\" >1</td>\n",
              "      <td id=\"T_b9e31_row2_col11\" class=\"data row2 col11\" >0</td>\n",
              "      <td id=\"T_b9e31_row2_col12\" class=\"data row2 col12\" >3</td>\n",
              "      <td id=\"T_b9e31_row2_col13\" class=\"data row2 col13\" >1</td>\n",
              "    </tr>\n",
              "    <tr>\n",
              "      <th id=\"T_b9e31_level0_row3\" class=\"row_heading level0 row3\" >3</th>\n",
              "      <td id=\"T_b9e31_row3_col0\" class=\"data row3 col0\" >35</td>\n",
              "      <td id=\"T_b9e31_row3_col1\" class=\"data row3 col1\" >1</td>\n",
              "      <td id=\"T_b9e31_row3_col2\" class=\"data row3 col2\" >4</td>\n",
              "      <td id=\"T_b9e31_row3_col3\" class=\"data row3 col3\" >120</td>\n",
              "      <td id=\"T_b9e31_row3_col4\" class=\"data row3 col4\" >198</td>\n",
              "      <td id=\"T_b9e31_row3_col5\" class=\"data row3 col5\" >0</td>\n",
              "      <td id=\"T_b9e31_row3_col6\" class=\"data row3 col6\" >0</td>\n",
              "      <td id=\"T_b9e31_row3_col7\" class=\"data row3 col7\" >130</td>\n",
              "      <td id=\"T_b9e31_row3_col8\" class=\"data row3 col8\" >1</td>\n",
              "      <td id=\"T_b9e31_row3_col9\" class=\"data row3 col9\" >1.600000</td>\n",
              "      <td id=\"T_b9e31_row3_col10\" class=\"data row3 col10\" >2</td>\n",
              "      <td id=\"T_b9e31_row3_col11\" class=\"data row3 col11\" >0</td>\n",
              "      <td id=\"T_b9e31_row3_col12\" class=\"data row3 col12\" >7</td>\n",
              "      <td id=\"T_b9e31_row3_col13\" class=\"data row3 col13\" >2</td>\n",
              "    </tr>\n",
              "    <tr>\n",
              "      <th id=\"T_b9e31_level0_row4\" class=\"row_heading level0 row4\" >4</th>\n",
              "      <td id=\"T_b9e31_row4_col0\" class=\"data row4 col0\" >35</td>\n",
              "      <td id=\"T_b9e31_row4_col1\" class=\"data row4 col1\" >1</td>\n",
              "      <td id=\"T_b9e31_row4_col2\" class=\"data row4 col2\" >4</td>\n",
              "      <td id=\"T_b9e31_row4_col3\" class=\"data row4 col3\" >126</td>\n",
              "      <td id=\"T_b9e31_row4_col4\" class=\"data row4 col4\" >282</td>\n",
              "      <td id=\"T_b9e31_row4_col5\" class=\"data row4 col5\" >0</td>\n",
              "      <td id=\"T_b9e31_row4_col6\" class=\"data row4 col6\" >2</td>\n",
              "      <td id=\"T_b9e31_row4_col7\" class=\"data row4 col7\" >156</td>\n",
              "      <td id=\"T_b9e31_row4_col8\" class=\"data row4 col8\" >1</td>\n",
              "      <td id=\"T_b9e31_row4_col9\" class=\"data row4 col9\" >0.000000</td>\n",
              "      <td id=\"T_b9e31_row4_col10\" class=\"data row4 col10\" >1</td>\n",
              "      <td id=\"T_b9e31_row4_col11\" class=\"data row4 col11\" >0</td>\n",
              "      <td id=\"T_b9e31_row4_col12\" class=\"data row4 col12\" >7</td>\n",
              "      <td id=\"T_b9e31_row4_col13\" class=\"data row4 col13\" >2</td>\n",
              "    </tr>\n",
              "  </tbody>\n",
              "</table>\n"
            ]
          },
          "metadata": {},
          "execution_count": 2
        }
      ],
      "source": [
        "heart_df=pd.read_csv('/content/heart1.csv')\n",
        "heart_df.head().style.background_gradient(cmap='Purples')"
      ]
    },
    {
      "cell_type": "code",
      "execution_count": 3,
      "id": "ae10b2f9-c636-41ee-9d36-e005a4af15f3",
      "metadata": {
        "id": "ae10b2f9-c636-41ee-9d36-e005a4af15f3",
        "outputId": "08aa87e5-465c-4077-e44a-6868497e6cb3",
        "colab": {
          "base_uri": "https://localhost:8080/"
        }
      },
      "outputs": [
        {
          "output_type": "stream",
          "name": "stdout",
          "text": [
            "<class 'pandas.core.frame.DataFrame'>\n",
            "RangeIndex: 270 entries, 0 to 269\n",
            "Data columns (total 14 columns):\n",
            " #   Column  Non-Null Count  Dtype  \n",
            "---  ------  --------------  -----  \n",
            " 0   age     270 non-null    int64  \n",
            " 1   sex     270 non-null    int64  \n",
            " 2   cpt     270 non-null    int64  \n",
            " 3   rbp     270 non-null    int64  \n",
            " 4   sc      270 non-null    int64  \n",
            " 5   fbs     270 non-null    int64  \n",
            " 6   rer     270 non-null    int64  \n",
            " 7   mhr     270 non-null    int64  \n",
            " 8   eia     270 non-null    int64  \n",
            " 9   opst    270 non-null    float64\n",
            " 10  dests   270 non-null    int64  \n",
            " 11  nmvcf   270 non-null    int64  \n",
            " 12  thal    270 non-null    int64  \n",
            " 13  a1p2    270 non-null    int64  \n",
            "dtypes: float64(1), int64(13)\n",
            "memory usage: 29.7 KB\n"
          ]
        }
      ],
      "source": [
        "heart_df.info()"
      ]
    },
    {
      "cell_type": "markdown",
      "id": "058004a9-c6d0-4403-9551-48820eeb2c8f",
      "metadata": {
        "id": "058004a9-c6d0-4403-9551-48820eeb2c8f"
      },
      "source": [
        "# EDA"
      ]
    },
    {
      "cell_type": "code",
      "execution_count": 4,
      "id": "4aa0bf94-9812-4585-a5b4-1777adf559ee",
      "metadata": {
        "id": "4aa0bf94-9812-4585-a5b4-1777adf559ee",
        "outputId": "1bd30e17-6d8b-45b5-ba83-8df7d88ca811",
        "colab": {
          "base_uri": "https://localhost:8080/",
          "height": 341
        }
      },
      "outputs": [
        {
          "output_type": "error",
          "ename": "TypeError",
          "evalue": "ignored",
          "traceback": [
            "\u001b[0;31m---------------------------------------------------------------------------\u001b[0m",
            "\u001b[0;31mTypeError\u001b[0m                                 Traceback (most recent call last)",
            "\u001b[0;32m<ipython-input-4-2006ac15ccc8>\u001b[0m in \u001b[0;36m<module>\u001b[0;34m\u001b[0m\n\u001b[1;32m      1\u001b[0m \u001b[0;32mimport\u001b[0m \u001b[0mpandas_profiling\u001b[0m \u001b[0;32mas\u001b[0m \u001b[0mpp\u001b[0m\u001b[0;34m\u001b[0m\u001b[0;34m\u001b[0m\u001b[0m\n\u001b[1;32m      2\u001b[0m \u001b[0;34m\u001b[0m\u001b[0m\n\u001b[0;32m----> 3\u001b[0;31m \u001b[0mpp\u001b[0m\u001b[0;34m.\u001b[0m\u001b[0mProfileReport\u001b[0m\u001b[0;34m(\u001b[0m\u001b[0mheart_df\u001b[0m\u001b[0;34m)\u001b[0m\u001b[0;34m\u001b[0m\u001b[0;34m\u001b[0m\u001b[0m\n\u001b[0m",
            "\u001b[0;32m/usr/local/lib/python3.8/dist-packages/pandas_profiling/__init__.py\u001b[0m in \u001b[0;36m__init__\u001b[0;34m(self, df, **kwargs)\u001b[0m\n\u001b[1;32m     64\u001b[0m         \u001b[0msample\u001b[0m \u001b[0;34m=\u001b[0m \u001b[0mkwargs\u001b[0m\u001b[0;34m.\u001b[0m\u001b[0mget\u001b[0m\u001b[0;34m(\u001b[0m\u001b[0;34m'sample'\u001b[0m\u001b[0;34m,\u001b[0m \u001b[0mdf\u001b[0m\u001b[0;34m.\u001b[0m\u001b[0mhead\u001b[0m\u001b[0;34m(\u001b[0m\u001b[0;34m)\u001b[0m\u001b[0;34m)\u001b[0m\u001b[0;34m\u001b[0m\u001b[0;34m\u001b[0m\u001b[0m\n\u001b[1;32m     65\u001b[0m \u001b[0;34m\u001b[0m\u001b[0m\n\u001b[0;32m---> 66\u001b[0;31m         \u001b[0mdescription_set\u001b[0m \u001b[0;34m=\u001b[0m \u001b[0mdescribe\u001b[0m\u001b[0;34m(\u001b[0m\u001b[0mdf\u001b[0m\u001b[0;34m,\u001b[0m \u001b[0;34m**\u001b[0m\u001b[0mkwargs\u001b[0m\u001b[0;34m)\u001b[0m\u001b[0;34m\u001b[0m\u001b[0;34m\u001b[0m\u001b[0m\n\u001b[0m\u001b[1;32m     67\u001b[0m \u001b[0;34m\u001b[0m\u001b[0m\n\u001b[1;32m     68\u001b[0m         self.html = to_html(sample,\n",
            "\u001b[0;32m/usr/local/lib/python3.8/dist-packages/pandas_profiling/describe.py\u001b[0m in \u001b[0;36mdescribe\u001b[0;34m(df, bins, check_correlation, correlation_threshold, correlation_overrides, check_recoded, pool_size, **kwargs)\u001b[0m\n\u001b[1;32m    390\u001b[0m             \u001b[0;32mif\u001b[0m \u001b[0mname\u001b[0m \u001b[0;32mnot\u001b[0m \u001b[0;32min\u001b[0m \u001b[0mnames\u001b[0m\u001b[0;34m:\u001b[0m\u001b[0;34m\u001b[0m\u001b[0;34m\u001b[0m\u001b[0m\n\u001b[1;32m    391\u001b[0m                 \u001b[0mnames\u001b[0m\u001b[0;34m.\u001b[0m\u001b[0mappend\u001b[0m\u001b[0;34m(\u001b[0m\u001b[0mname\u001b[0m\u001b[0;34m)\u001b[0m\u001b[0;34m\u001b[0m\u001b[0;34m\u001b[0m\u001b[0m\n\u001b[0;32m--> 392\u001b[0;31m     \u001b[0mvariable_stats\u001b[0m \u001b[0;34m=\u001b[0m \u001b[0mpd\u001b[0m\u001b[0;34m.\u001b[0m\u001b[0mconcat\u001b[0m\u001b[0;34m(\u001b[0m\u001b[0mldesc\u001b[0m\u001b[0;34m,\u001b[0m \u001b[0mjoin_axes\u001b[0m\u001b[0;34m=\u001b[0m\u001b[0mpd\u001b[0m\u001b[0;34m.\u001b[0m\u001b[0mIndex\u001b[0m\u001b[0;34m(\u001b[0m\u001b[0;34m[\u001b[0m\u001b[0mnames\u001b[0m\u001b[0;34m]\u001b[0m\u001b[0;34m)\u001b[0m\u001b[0;34m,\u001b[0m \u001b[0maxis\u001b[0m\u001b[0;34m=\u001b[0m\u001b[0;36m1\u001b[0m\u001b[0;34m)\u001b[0m\u001b[0;34m\u001b[0m\u001b[0;34m\u001b[0m\u001b[0m\n\u001b[0m\u001b[1;32m    393\u001b[0m     \u001b[0mvariable_stats\u001b[0m\u001b[0;34m.\u001b[0m\u001b[0mcolumns\u001b[0m\u001b[0;34m.\u001b[0m\u001b[0mnames\u001b[0m \u001b[0;34m=\u001b[0m \u001b[0mdf\u001b[0m\u001b[0;34m.\u001b[0m\u001b[0mcolumns\u001b[0m\u001b[0;34m.\u001b[0m\u001b[0mnames\u001b[0m\u001b[0;34m\u001b[0m\u001b[0;34m\u001b[0m\u001b[0m\n\u001b[1;32m    394\u001b[0m \u001b[0;34m\u001b[0m\u001b[0m\n",
            "\u001b[0;32m/usr/local/lib/python3.8/dist-packages/pandas/util/_decorators.py\u001b[0m in \u001b[0;36mwrapper\u001b[0;34m(*args, **kwargs)\u001b[0m\n\u001b[1;32m    309\u001b[0m                     \u001b[0mstacklevel\u001b[0m\u001b[0;34m=\u001b[0m\u001b[0mstacklevel\u001b[0m\u001b[0;34m,\u001b[0m\u001b[0;34m\u001b[0m\u001b[0;34m\u001b[0m\u001b[0m\n\u001b[1;32m    310\u001b[0m                 )\n\u001b[0;32m--> 311\u001b[0;31m             \u001b[0;32mreturn\u001b[0m \u001b[0mfunc\u001b[0m\u001b[0;34m(\u001b[0m\u001b[0;34m*\u001b[0m\u001b[0margs\u001b[0m\u001b[0;34m,\u001b[0m \u001b[0;34m**\u001b[0m\u001b[0mkwargs\u001b[0m\u001b[0;34m)\u001b[0m\u001b[0;34m\u001b[0m\u001b[0;34m\u001b[0m\u001b[0m\n\u001b[0m\u001b[1;32m    312\u001b[0m \u001b[0;34m\u001b[0m\u001b[0m\n\u001b[1;32m    313\u001b[0m         \u001b[0;32mreturn\u001b[0m \u001b[0mwrapper\u001b[0m\u001b[0;34m\u001b[0m\u001b[0;34m\u001b[0m\u001b[0m\n",
            "\u001b[0;31mTypeError\u001b[0m: concat() got an unexpected keyword argument 'join_axes'"
          ]
        }
      ],
      "source": [
        "import pandas_profiling as pp\n",
        "\n",
        "pp.ProfileReport(heart_df)"
      ]
    },
    {
      "cell_type": "code",
      "execution_count": null,
      "id": "15385307-d893-4708-94b6-3ba306f80d70",
      "metadata": {
        "id": "15385307-d893-4708-94b6-3ba306f80d70"
      },
      "outputs": [],
      "source": [
        "def plot_column_distribution(column_name, dataframe, colors):\n",
        "    \"\"\"\n",
        "    Plots the distribution of a specified column in a given dataframe.\n",
        "    Returns a pie chart and a histogram.\n",
        "    \n",
        "    column_name (str): The name of the column to plot.\n",
        "    dataframe (pandas.DataFrame): The dataframe containing the column data.\n",
        "    \"\"\"\n",
        "    colors = colors[0:dataframe[column_name].nunique()]\n",
        "    labels = list(dataframe[column_name].unique())\n",
        "    order = dataframe[column_name].value_counts().index\n",
        "\n",
        "    # Create figure and axes\n",
        "    fig, axs = plt.subplots(1, 2, figsize=(16, 8))\n",
        "\n",
        "    # Add a main title to the chart\n",
        "    fig.suptitle(f'{column_name.capitalize()} Distribution', fontweight='bold', fontsize=16, \n",
        "                 fontfamily='sans-serif', color=black_grad[0])\n",
        "\n",
        "    # Plot Pie Chart\n",
        "    axs[0].set_title('Pie Chart', fontweight='bold', fontsize=14, \n",
        "                      fontfamily='sans-serif', color=black_grad[0])\n",
        "    axs[0].pie(dataframe[column_name].value_counts(), labels=labels, colors=colors, \n",
        "               pctdistance=0.7, autopct='%.2f%%', \n",
        "               wedgeprops=dict(alpha=0.8, edgecolor='#4B4B4B'),\n",
        "               textprops={'fontsize': 12})\n",
        "    centre = plt.Circle((0, 0), 0.45, fc='white', edgecolor='#4B4B4B')\n",
        "    axs[0].add_artist(centre)\n",
        "\n",
        "    # Plot Histogram\n",
        "    axs[1].set_title('Histogram', fontweight='bold', fontsize=14, \n",
        "                      fontfamily='sans-serif', color=black_grad[0])\n",
        "    sns.countplot(x=column_name, data=dataframe, palette=colors, order=order, \n",
        "                  edgecolor='#2F4F4F', alpha=0.85, ax=axs[1])\n",
        "    for rect in axs[1].patches:\n",
        "        axs[1].text(rect.get_x() + rect.get_width() / 2, \n",
        "                    rect.get_height() + 4.25, rect.get_height(),\n",
        "                    horizontalalignment='center', fontsize=10, \n",
        "                    bbox=dict(facecolor='none', edgecolor=black_grad[0], \n",
        "                              linewidth=0.25, boxstyle='round'))\n",
        "\n",
        "    axs[1].set_xlabel(column_name.capitalize(), fontweight='bold', fontsize=11, \n",
        "                       fontfamily='sans-serif')\n",
        "    axs[1].set_ylabel('Total', fontweight='bold', fontsize=11, \n",
        "                       fontfamily='sans-serif')\n",
        "    axs[1].set_xticklabels([label if label in labels else '' for label in order])\n",
        "    axs[1].grid(axis='y', alpha=0.4)\n",
        "\n",
        "    plt.show()\n"
      ]
    },
    {
      "cell_type": "markdown",
      "id": "8cc694a7-97f0-41ef-9974-64e2620f09fd",
      "metadata": {
        "id": "8cc694a7-97f0-41ef-9974-64e2620f09fd"
      },
      "source": [
        "## Gender Breakdown"
      ]
    },
    {
      "cell_type": "code",
      "execution_count": null,
      "id": "47ef9e83-9bc9-4314-a5f3-e01b1b506559",
      "metadata": {
        "id": "47ef9e83-9bc9-4314-a5f3-e01b1b506559"
      },
      "outputs": [],
      "source": [
        "plot_column_distribution('sex', heart_df, color_mix)"
      ]
    },
    {
      "cell_type": "markdown",
      "id": "e4000ff1-3746-45fa-a79f-91ad14a133ed",
      "metadata": {
        "id": "e4000ff1-3746-45fa-a79f-91ad14a133ed"
      },
      "source": [
        "## Chest Pain Type"
      ]
    },
    {
      "cell_type": "code",
      "execution_count": null,
      "id": "10706821-4a15-4008-8f2c-9def7bdc80e4",
      "metadata": {
        "id": "10706821-4a15-4008-8f2c-9def7bdc80e4"
      },
      "outputs": [],
      "source": [
        "plot_column_distribution('cpt', heart_df, pink_grad)"
      ]
    },
    {
      "cell_type": "markdown",
      "id": "dfd7c00c-a3b9-4657-adb5-ba12a4858648",
      "metadata": {
        "id": "dfd7c00c-a3b9-4657-adb5-ba12a4858648"
      },
      "source": [
        "## Fasting Blood Sugar"
      ]
    },
    {
      "cell_type": "code",
      "execution_count": null,
      "id": "20243e49-7f4a-4987-a583-21793ad7bb1e",
      "metadata": {
        "id": "20243e49-7f4a-4987-a583-21793ad7bb1e"
      },
      "outputs": [],
      "source": [
        "plot_column_distribution('fbs', heart_df, color_mix)"
      ]
    },
    {
      "cell_type": "markdown",
      "id": "3a7b3893-ec8f-4fc6-a615-66eb8a7ccdf1",
      "metadata": {
        "id": "3a7b3893-ec8f-4fc6-a615-66eb8a7ccdf1"
      },
      "source": [
        "## Resting Electrocardiographic Results"
      ]
    },
    {
      "cell_type": "code",
      "execution_count": null,
      "id": "c56bae20-30b3-4d7d-9e5e-274e2e540b6f",
      "metadata": {
        "id": "c56bae20-30b3-4d7d-9e5e-274e2e540b6f"
      },
      "outputs": [],
      "source": [
        "plot_column_distribution('rer', heart_df, pink_grad)"
      ]
    },
    {
      "cell_type": "markdown",
      "id": "8b8eadb1-8b0d-4f1b-afbe-86bde5db36db",
      "metadata": {
        "id": "8b8eadb1-8b0d-4f1b-afbe-86bde5db36db"
      },
      "source": [
        "## Exercise Induced Angina"
      ]
    },
    {
      "cell_type": "code",
      "execution_count": null,
      "id": "20257e44-48cb-4992-bc6f-8de2f72e8132",
      "metadata": {
        "id": "20257e44-48cb-4992-bc6f-8de2f72e8132"
      },
      "outputs": [],
      "source": [
        "plot_column_distribution('eia', heart_df, red_grad)"
      ]
    },
    {
      "cell_type": "markdown",
      "id": "81ea4e4f-a464-419d-aee2-023f599b4f10",
      "metadata": {
        "id": "81ea4e4f-a464-419d-aee2-023f599b4f10"
      },
      "source": [
        "## Slope of Peak Exercise"
      ]
    },
    {
      "cell_type": "code",
      "execution_count": null,
      "id": "d599e007-1fb5-4908-8447-f394047220be",
      "metadata": {
        "id": "d599e007-1fb5-4908-8447-f394047220be"
      },
      "outputs": [],
      "source": [
        "plot_column_distribution('dests', heart_df, purple_grad)"
      ]
    },
    {
      "cell_type": "markdown",
      "id": "ab1b099a-cb33-4d96-a45e-dc18c746507f",
      "metadata": {
        "id": "ab1b099a-cb33-4d96-a45e-dc18c746507f"
      },
      "source": [
        "## Number of Major Vessels"
      ]
    },
    {
      "cell_type": "code",
      "execution_count": null,
      "id": "25634109-15ab-456d-aaa0-dcd9a4eb2d7b",
      "metadata": {
        "id": "25634109-15ab-456d-aaa0-dcd9a4eb2d7b"
      },
      "outputs": [],
      "source": [
        "plot_column_distribution('nmvcf', heart_df, purple_grad)"
      ]
    },
    {
      "cell_type": "markdown",
      "id": "7eb0d5a5-01c5-431c-bf4b-ffa2aac63fd9",
      "metadata": {
        "id": "7eb0d5a5-01c5-431c-bf4b-ffa2aac63fd9"
      },
      "source": [
        "## Thal"
      ]
    },
    {
      "cell_type": "code",
      "execution_count": null,
      "id": "78ea2106-6f31-4a0f-bde3-660d6ab06a59",
      "metadata": {
        "id": "78ea2106-6f31-4a0f-bde3-660d6ab06a59"
      },
      "outputs": [],
      "source": [
        "plot_column_distribution('thal', heart_df, red_grad)"
      ]
    },
    {
      "cell_type": "markdown",
      "id": "6911f3ad-fe6c-4291-bdc7-951e84f10704",
      "metadata": {
        "id": "6911f3ad-fe6c-4291-bdc7-951e84f10704"
      },
      "source": [
        "## Target"
      ]
    },
    {
      "cell_type": "code",
      "execution_count": null,
      "id": "136d20e3-5d23-45ad-952d-3e75e71ff05d",
      "metadata": {
        "id": "136d20e3-5d23-45ad-952d-3e75e71ff05d"
      },
      "outputs": [],
      "source": [
        "plot_column_distribution('a1p2', heart_df, color_mix)"
      ]
    },
    {
      "cell_type": "markdown",
      "id": "6015b3f0-548d-4bc7-af1b-7c6d84b6f49f",
      "metadata": {
        "id": "6015b3f0-548d-4bc7-af1b-7c6d84b6f49f"
      },
      "source": [
        "# Numerical Variables"
      ]
    },
    {
      "cell_type": "code",
      "execution_count": null,
      "id": "5f0d1412-c0e5-401d-860a-5ef1c7fcfd37",
      "metadata": {
        "id": "5f0d1412-c0e5-401d-860a-5ef1c7fcfd37"
      },
      "outputs": [],
      "source": []
    }
  ],
  "metadata": {
    "kernelspec": {
      "display_name": "Python 3 (ipykernel)",
      "language": "python",
      "name": "python3"
    },
    "language_info": {
      "codemirror_mode": {
        "name": "ipython",
        "version": 3
      },
      "file_extension": ".py",
      "mimetype": "text/x-python",
      "name": "python",
      "nbconvert_exporter": "python",
      "pygments_lexer": "ipython3",
      "version": "3.9.7"
    },
    "colab": {
      "provenance": [],
      "include_colab_link": true
    }
  },
  "nbformat": 4,
  "nbformat_minor": 5
}